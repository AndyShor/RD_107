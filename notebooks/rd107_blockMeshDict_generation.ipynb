{
 "cells": [
  {
   "cell_type": "markdown",
   "metadata": {
    "heading_collapsed": true
   },
   "source": [
    "# RD107 blockmeshdict data"
   ]
  },
  {
   "cell_type": "markdown",
   "metadata": {},
   "source": [
    "# General imports"
   ]
  },
  {
   "cell_type": "code",
   "execution_count": 37,
   "metadata": {},
   "outputs": [
    {
     "name": "stdout",
     "output_type": "stream",
     "text": [
      "Populating the interactive namespace from numpy and matplotlib\n"
     ]
    }
   ],
   "source": [
    "import numpy as np\n",
    "import math\n",
    "import matplotlib                       # import matplotlib and its its components for plotting\n",
    "import matplotlib.pyplot as plt\n",
    "\n",
    "%matplotlib inline      \n",
    "%pylab inline\n",
    "#pylab.rcParams['figure.figsize'] = (8, 5)\n",
    "#pylab.rcParams['figure.figsize'] = (15, 5)\n",
    "\n",
    "font = {'family' : 'DejaVu Sans',\n",
    "        'weight' : 'normal',\n",
    "        'size'   : 16}\n",
    "\n",
    "matplotlib.rc('font', **font)\n",
    "\n",
    "from IPython.display import Image, display\n"
   ]
  },
  {
   "cell_type": "markdown",
   "metadata": {},
   "source": [
    "# Geometry  reminder"
   ]
  },
  {
   "cell_type": "code",
   "execution_count": 38,
   "metadata": {},
   "outputs": [
    {
     "name": "stdout",
     "output_type": "stream",
     "text": [
      "Populating the interactive namespace from numpy and matplotlib\n"
     ]
    },
    {
     "data": {
      "text/html": [
       "<img src=\"https://raw.githubusercontent.com/AndyShor/RD_107/main/figures/RD107.jpg\"/>"
      ],
      "text/plain": [
       "<IPython.core.display.Image object>"
      ]
     },
     "execution_count": 38,
     "metadata": {},
     "output_type": "execute_result"
    }
   ],
   "source": [
    "%matplotlib inline      \n",
    "%pylab inline\n",
    "pylab.rcParams['figure.figsize'] = (15, 5)\n",
    "Image(url=\"https://raw.githubusercontent.com/AndyShor/RD_107/main/figures/RD107.jpg\") \n",
    "#display(Image)"
   ]
  },
  {
   "cell_type": "markdown",
   "metadata": {},
   "source": [
    "# Geometry definition"
   ]
  },
  {
   "cell_type": "code",
   "execution_count": 36,
   "metadata": {},
   "outputs": [
    {
     "data": {
      "image/png": "[encoded data removed]",
      "text/plain": [
       "<Figure size 1080x360 with 1 Axes>"
      ]
     },
     "metadata": {
      "needs_background": "light"
     },
     "output_type": "display_data"
    }
   ],
   "source": [
    "comb_r=0.215 # radius of combustion chamber\n",
    "comb_l=0.435 # straight length of combustion chamber\n",
    "comb_r1=0.150 # curvature radius of combustion chamber tapering\n",
    "comb_half_angle= 35 # half angle of the combustion chamber tapering\n",
    "throat_r=0.0829 # radius at the nozzle\n",
    "comb_full_l=0.723 # length of combustion chamber till throat\n",
    "throat_curv_r=0.165 # curvature radius at the nozzle throat\n",
    "div_half_angle_1=20 # half angle of the diverging section\n",
    "straight_1=0.01 # first transitional straight section\n",
    "div_r=5.8 # curvature radius of the diverging nozzle bell\n",
    "straight_2=0.014 # straight section at the nozzle exit\n",
    "div_half_angle_2=10 # half angle of the diverging section at the termination\n",
    "total_l=1.779 # total length of the engine\n",
    "bell_r=0.360 # radius of the nozzle bell at the rim\n",
    "domain_r=6*bell_r # radius of the area behind the nozzle for the plume\n",
    "domain_ext=1.5*total_l+4 # extra length for the plume\n",
    "wedge_half_angle=2.5 # half angle to create a wedge\n",
    "\n",
    "points = np.zeros((31, 3)) # main blockmesh vertices\n",
    "aux_points = np.zeros((6, 3)) # auxiliary points to specify arc segments\n",
    "\n",
    "# points 0-8 are placed on the wedge axis\n",
    "\n",
    "points[0]=(0,0,0)\n",
    "points[1]=(comb_l,0,0)\n",
    "points[2]=(comb_l+comb_r1*math.sin(math.pi*comb_half_angle/180),0,0)\n",
    "points[3]=(comb_full_l-throat_curv_r*math.sin(math.pi*comb_half_angle/180),0,0)\n",
    "points[4]=(comb_full_l+throat_curv_r*math.sin(math.pi*div_half_angle_1/180),0,0)\n",
    "points[5]=(points[4,0]+straight_1*math.cos(math.pi*div_half_angle_1/180),0,0)\n",
    "points[6]=(total_l-straight_2*math.cos(math.pi*div_half_angle_2/180),0,0)\n",
    "points[7]=(total_l,0,0)\n",
    "points[8]=(total_l+domain_ext,0,0)\n",
    "\n",
    "for i in range(9,17):\n",
    "    points[i,0]=points[i-9,0]\n",
    "points[9,1]=comb_r\n",
    "points[10,1]=comb_r\n",
    "points[11,1]=comb_r-comb_r1*(1-math.cos(math.pi*comb_half_angle/180))\n",
    "points[12,1]=throat_r+throat_curv_r*(1-math.cos(math.pi*comb_half_angle/180))\n",
    "points[13,1]=throat_r+throat_curv_r*(1-math.cos(math.pi*div_half_angle_1/180))\n",
    "points[14,1]=points[13,1]+straight_1*math.sin(math.pi*div_half_angle_1/180)\n",
    "points[15,1]=bell_r-straight_2*math.sin(math.pi*div_half_angle_2/180)\n",
    "points[16,1]=bell_r\n",
    "\n",
    "points[17]=(total_l,domain_r,0)\n",
    "points[18]=(total_l+domain_ext,domain_r,0)\n",
    "points[19]=(total_l+domain_ext,bell_r,0)\n",
    "\n",
    "#plt.style.use('fivethirtyeight')\n",
    "\n",
    "#plt.plot(points[9:20,0], points[9:20,1])\n",
    "#plt.plot(points[9:20,0], -1*points[9:20,1])\n",
    "plt.plot([points[0,0],points[9,0]], [points[0,1],points[9,1]], 'b')\n",
    "plt.plot(points[9:18,0], points[9:18,1], 'r')\n",
    "plt.plot(points[17:19,0], points[17:19,1], 'k')\n",
    "plt.plot([points[18,0],points[19,0],points[8,0]], [points[18,1],points[19,1],points[8,1]], 'm')\n",
    "\n",
    "\n",
    "#plt.plot(points[0:9,0], points[0:9,1])\n",
    "\n",
    "plt.title(f'geometry with colors representing boundary condition zones')\n",
    "plt.xlim(left=-0.1)                # set up lower y-axis limit at zero\n",
    "plt.xlim(right=10)\n",
    "                   # set upper limit of the graph at 110% of maximum beam radius\n",
    "plt.xlabel('Distance, [m]')\n",
    "plt.ylabel('Radius, [m]')\n",
    "\n",
    "\n",
    "#plt.savefig('Rothe_nozzle_profile.png', dpi=300)\n",
    "\n",
    "# arc central point in combustion chamber\n",
    "aux_points[0]=(comb_l+comb_r1*(math.sin(math.pi*comb_half_angle/360)),comb_r-comb_r1*(1-math.cos(math.pi*comb_half_angle/360)), 0)\n",
    "#arc central point in the throat\n",
    "aux_points[1]=(comb_full_l,throat_r, 0)\n",
    "\n",
    "# arc central point in the diverging bell\n",
    "midangle=(div_half_angle_1+div_half_angle_2)/2\n",
    "x_center=points[14,0]+div_r*math.sin(math.pi*div_half_angle_1/180)\n",
    "y_center=points[14,1]-div_r*math.cos(math.pi*div_half_angle_1/180)\n",
    "\n",
    "aux_points[2]=(x_center-div_r*math.sin(math.pi*midangle/180), y_center+div_r*math.cos(math.pi*midangle/180 ),0)\n",
    "\n",
    "#plt.scatter(aux_points[0:3,0], aux_points[0:3,1])\n",
    "plt.show()\n",
    "\n",
    "               "
   ]
  },
  {
   "cell_type": "markdown",
   "metadata": {},
   "source": [
    "# Blockmeshdict vertices"
   ]
  },
  {
   "cell_type": "code",
   "execution_count": 32,
   "metadata": {},
   "outputs": [
    {
     "name": "stdout",
     "output_type": "stream",
     "text": [
      "Blockmeshdict segment with produced vertices\n",
      "vertices\n",
      "(\n",
      "\t(0.0 0.0 0.0) // 0 \n",
      "\t(0.435 0.0 0.0) // 1 \n",
      "\t(0.5210364654526569 0.0 0.0) // 2 \n",
      "\t(0.6283598880020773 0.0 0.0) // 3 \n",
      "\t(0.7794333236487353 0.0 0.0) // 4 \n",
      "\t(0.7888302498565943 0.0 0.0) // 5 \n",
      "\t(1.765212691457829 0.0 0.0) // 6 \n",
      "\t(1.779 0.0 0.0) // 7 \n",
      "\t(8.4475 0.0 0.0) // 8 \n",
      "\t(0.0 0.21459093004486265 0.009360324902714583) // 9 \n",
      "\t(0.435 0.21459093004486265 0.009360324902714583) // 10 \n",
      "\t(0.5210364654526569 0.18751535026853428 0.008179304700309859) // 11 \n",
      "\t(0.6283598880020773 0.1125254079898641 0.004908289359552356) // 12 \n",
      "\t(0.7794333236487353 0.09267405506394853 0.00404238550655085) // 13 \n",
      "\t(0.7888302498565943 0.09608774904768494 0.004191288746774165) // 14 \n",
      "\t(1.765212691457829 0.35688859665537004 0.015567261943781744) // 15 \n",
      "\t(1.779 0.3593150456565142 0.015673102162684884) // 16 \n",
      "\t(1.779 2.1558902739390855 0.09403861297610931) // 17 \n",
      "\t(8.4475 2.1558902739390855 0.09403861297610931) // 18 \n",
      "\t(8.4475 0.3593150456565142 0.015673102162684884) // 19 \n",
      "\t(0.0 0.21479536764009943 -0.009369242345373254) // 20 \n",
      "\t(0.435 0.21479536764009943 -0.009369242345373254) // 21 \n",
      "\t(0.5210364654526569 0.18769399336062983 -0.008187097002544117) // 22 \n",
      "\t(0.6283598880020773 0.11263260927655257 -0.004912965414002483) // 23 \n",
      "\t(0.7794333236487353 0.09276234426123266 -0.00404623662724736) // 24 \n",
      "\t(0.7888302498565943 0.09617929042057947 -0.004195281725378406) // 25 \n",
      "\t(1.765212691457829 0.3572285991263617 -0.0155820926432691) // 26 \n",
      "\t(1.779 0.3596573597694688 -0.01568803369457847) // 27 \n",
      "\t(1.779 2.157944158616813 -0.09412820216747084) // 28 \n",
      "\t(8.4475 2.157944158616813 -0.09412820216747084) // 29 \n",
      "\t(8.4475 0.3596573597694688 -0.01568803369457847) // 30 \n",
      ");\n"
     ]
    }
   ],
   "source": [
    "# convert points to wedge\n",
    "\n",
    "def rotate_points(points,angle):\n",
    "    for point in points:\n",
    "        point[1]=point[1]*math.cos(math.pi*angle/180)\n",
    "        point[2]=point[1]*math.sin(math.pi*angle/180)\n",
    "    return points\n",
    "\n",
    "# generate main and aux wedge points by rotation\n",
    "points[20:31]=rotate_points(points[9:20],-1*wedge_half_angle )\n",
    "points[9:20]=rotate_points(points[9:20],wedge_half_angle )\n",
    "aux_points[3:6]=rotate_points(aux_points[0:3],-1*wedge_half_angle )\n",
    "aux_points[0:3]=rotate_points(aux_points[0:3],wedge_half_angle )\n",
    "\n",
    "print(\"Blockmeshdict segment with produced vertices\")\n",
    "print(\"vertices\")\n",
    "print(\"(\")\n",
    "for i, Point in enumerate(points):\n",
    "\n",
    "    print(f\"\\t({Point[0]} {Point[1]} {Point[2]}) // {i} \")\n",
    "print(\");\")"
   ]
  },
  {
   "cell_type": "markdown",
   "metadata": {},
   "source": [
    "# generate blocks"
   ]
  },
  {
   "cell_type": "code",
   "execution_count": 33,
   "metadata": {},
   "outputs": [
    {
     "name": "stdout",
     "output_type": "stream",
     "text": [
      "blocks\n",
      "(\n",
      "\thex (0 20 9 0 1 21 10 1 ) (20 1 88) simpleGrading (1 1 1)\n",
      "\thex (1 21 10 1 2 22 11 2 ) (20 1 18) simpleGrading (1 1 1)\n",
      "\thex (2 22 11 2 3 23 12 3 ) (20 1 22) simpleGrading (1 1 1)\n",
      "\thex (3 23 12 3 4 24 13 4 ) (20 1 31) simpleGrading (1 1 1)\n",
      "\thex (4 24 13 4 5 25 14 5 ) (20 1 2) simpleGrading (1 1 1)\n",
      "\thex (5 25 14 5 6 26 15 6 ) (20 1 196) simpleGrading (1 1 1)\n",
      "\thex (6 26 15 6 7 27 16 7 ) (20 1 3) simpleGrading (1 1 1)\n",
      ");\n"
     ]
    }
   ],
   "source": [
    "axis_point_numbers=np.arange(0,9) #  poit numbers on the axis\n",
    "wedge_point_numbers_1=np.arange(9,20) #  point numbers on the first wedge\n",
    "wedge_point_numbers_2=np.arange(20,31) #  point numbers on the second wedge\n",
    "# number of generated blocks\n",
    "n_blocks=7\n",
    "\n",
    "# define function that creates pseudo 4-point cross-sections for the main engine part\n",
    "def contour(i):\n",
    "    return [axis_point_numbers[i], wedge_point_numbers_2[i], wedge_point_numbers_1[i], axis_point_numbers[i]]\n",
    "\n",
    "contours=[contour(i) for i in range(n_blocks+1)] #  define list of contours\n",
    "blocks=[contours[i]+contours[i+1] for i in range(7)] #define list of blocks\n",
    "\n",
    "y_cells=[20 for i in range(n_blocks)] # define list of cell numbers in y-direction  (uniform)\n",
    "x_cells=[int((points[i+1,0]-points[i,0])/0.005+1) for i in range(n_blocks)] # define list of cell numbers in x-direction  (every 5 mm)\n",
    "\n",
    "# generate block section of blockmeshdict\n",
    "print(\"blocks\")\n",
    "print(\"(\")\n",
    "for i,block in enumerate(blocks):\n",
    "    \n",
    "    print (f'\\thex ({block[0]} {block[1]} {block[2]} {block[3]} {block[4]} {block[5]} {block[6]} {block[7]} ) ({y_cells[i]} 1 {x_cells[i]}) simpleGrading (1 1 1)')\n",
    "\n",
    "print(\");\")"
   ]
  },
  {
   "cell_type": "markdown",
   "metadata": {},
   "source": [
    "# generate faces for boundary conditions"
   ]
  },
  {
   "cell_type": "code",
   "execution_count": 16,
   "metadata": {},
   "outputs": [
    {
     "name": "stdout",
     "output_type": "stream",
     "text": [
      "asym1 patches\n",
      "\t(0 9 10 1)\n",
      "\t(1 10 11 2)\n",
      "\t(2 11 12 3)\n",
      "\t(3 12 13 4)\n",
      "\t(4 13 14 5)\n",
      "\t(5 14 15 6)\n",
      "\t(6 15 16 7)\n",
      "asym2 patches\n",
      "\t(1 21 20 0)\n",
      "\t(2 22 21 1)\n",
      "\t(3 23 22 2)\n",
      "\t(4 24 23 3)\n",
      "\t(5 25 24 4)\n",
      "\t(6 26 25 5)\n",
      "\t(7 27 26 6)\n",
      "nozzle patches\n",
      "\t(9 20 21 10)\n",
      "\t(10 21 22 11)\n",
      "\t(11 22 23 12)\n",
      "\t(12 23 24 13)\n",
      "\t(13 24 25 14)\n",
      "\t(14 25 26 15)\n",
      "\t(15 26 27 16)\n",
      "inlet patch\n",
      "\t(0 20 9 0 )\n",
      "outlet patch\n",
      "(7 27 16 7 )\n"
     ]
    }
   ],
   "source": [
    "# number of generated blocks\n",
    "\n",
    "# generate asym1 surfaces for wedge BC\n",
    "asym1=[[contours[i][0],contours[i][2],contours[i+1][2],contours[i+1][0]] for i in range(n_blocks) ]\n",
    "print (f'asym1 patches')\n",
    "for patch in asym1:\n",
    "    print (f'\\t({patch[0]} {patch[1]} {patch[2]} {patch[3]})')\n",
    "\n",
    "# generate asym2 surfaces for wedge BC\n",
    "\n",
    "asym2=[[contours[i+1][0],contours[i+1][1],contours[i][1],contours[i][0]] for i in range(n_blocks) ]\n",
    "print (f'asym2 patches')\n",
    "for patch in asym2:\n",
    "    print (f'\\t({patch[0]} {patch[1]} {patch[2]} {patch[3]})')\n",
    "    \n",
    "# generate nozzle surfaces for nozzle wall BC\n",
    "#nozzle[i]=np.array((wedges[i,2],wedges[i,1], wedges[i+1,1], wedges[i+1,2]))\n",
    "nozzle=[[contours[i][2],contours[i][1],contours[i+1][1],contours[i+1][2]] for i in range(n_blocks) ]\n",
    "print (f'nozzle patches')\n",
    "for patch in nozzle:\n",
    "    print (f'\\t({patch[0]} {patch[1]} {patch[2]} {patch[3]})')\n",
    "\n",
    "# generate inlet surfaces for inlet BC\n",
    "print (f'inlet patch')\n",
    "inlet=contours[0]\n",
    "print(f'\\t({inlet[0]} {inlet[1]} {inlet[2]} {inlet[3]} )')\n",
    "\n",
    "# generate outlet surfaces for outlet BC\n",
    "\n",
    "print (f'outlet patch')\n",
    "outlet=contours[n_blocks]\n",
    "print(f'({outlet[0]} {outlet[1]} {outlet[2]} {outlet[3]} )')"
   ]
  },
  {
   "cell_type": "markdown",
   "metadata": {},
   "source": [
    "# generate arcs"
   ]
  },
  {
   "cell_type": "code",
   "execution_count": 17,
   "metadata": {},
   "outputs": [
    {
     "name": "stdout",
     "output_type": "stream",
     "text": [
      "arcs for the nozzle\n",
      "edges\n",
      "(\n",
      "\t arc 10 11 (0.48010586992564097 0.20766168173026953 0.009058075336329744)\n",
      "\t arc 12 13 (0.723 0.08274227023590286 0.0036091671369071583)\n",
      "\t arc 14 15 (1.2713966195508526 0.24795084769182588 0.01081546407303318)\n",
      "\t arc 21 22 (0.48010586992564097 0.207859517933444 -0.0090667048303109)\n",
      "\t arc 23 24 (0.723 0.08282109756913601 -0.0036126055368904315)\n",
      "\t arc 25 26 (1.2713966195508526 0.24818706678565447 -0.010825767805189979)\n",
      ");\n"
     ]
    }
   ],
   "source": [
    "print(f'arcs for the nozzle')\n",
    "\n",
    "print(\"edges\")\n",
    "print(\"(\")\n",
    "\n",
    "print(f'\\t arc 10 11 ({aux_points[0,0]} {aux_points[0,1]} {aux_points[0,2]})')\n",
    "print(f'\\t arc 12 13 ({aux_points[1,0]} {aux_points[1,1]} {aux_points[1,2]})')\n",
    "print(f'\\t arc 14 15 ({aux_points[2,0]} {aux_points[2,1]} {aux_points[2,2]})')\n",
    "print(f'\\t arc 21 22 ({aux_points[3,0]} {aux_points[3,1]} {aux_points[3,2]})')\n",
    "print(f'\\t arc 23 24 ({aux_points[4,0]} {aux_points[4,1]} {aux_points[4,2]})')\n",
    "print(f'\\t arc 25 26 ({aux_points[5,0]} {aux_points[5,1]} {aux_points[5,2]})')\n",
    "\n",
    "print(\");\")"
   ]
  },
  {
   "cell_type": "code",
   "execution_count": null,
   "metadata": {},
   "outputs": [],
   "source": []
  }
 ],
 "metadata": {
  "kernelspec": {
   "display_name": "Python 3",
   "language": "python",
   "name": "python3"
  },
  "language_info": {
   "codemirror_mode": {
    "name": "ipython",
    "version": 3
   },
   "file_extension": ".py",
   "mimetype": "text/x-python",
   "name": "python",
   "nbconvert_exporter": "python",
   "pygments_lexer": "ipython3",
   "version": "3.7.4"
  }
 },
 "nbformat": 4,
 "nbformat_minor": 2
}
